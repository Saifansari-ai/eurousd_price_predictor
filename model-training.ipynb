{
 "cells": [
  {
   "cell_type": "code",
   "execution_count": 1,
   "id": "53a8d76d",
   "metadata": {
    "execution": {
     "iopub.execute_input": "2025-03-02T03:36:59.806103Z",
     "iopub.status.busy": "2025-03-02T03:36:59.805730Z",
     "iopub.status.idle": "2025-03-02T03:37:00.849934Z",
     "shell.execute_reply": "2025-03-02T03:37:00.848830Z"
    },
    "papermill": {
     "duration": 1.049873,
     "end_time": "2025-03-02T03:37:00.852138",
     "exception": false,
     "start_time": "2025-03-02T03:36:59.802265",
     "status": "completed"
    },
    "tags": []
   },
   "outputs": [],
   "source": [
    "import numpy as np\n",
    "import pandas as pd"
   ]
  },
  {
   "cell_type": "code",
   "execution_count": null,
   "id": "a307874a",
   "metadata": {
    "papermill": {
     "duration": 0.001591,
     "end_time": "2025-03-02T03:37:00.855895",
     "exception": false,
     "start_time": "2025-03-02T03:37:00.854304",
     "status": "completed"
    },
    "tags": []
   },
   "outputs": [],
   "source": []
  },
  {
   "cell_type": "code",
   "execution_count": null,
   "id": "2d10192e",
   "metadata": {
    "papermill": {
     "duration": 0.001293,
     "end_time": "2025-03-02T03:37:00.858767",
     "exception": false,
     "start_time": "2025-03-02T03:37:00.857474",
     "status": "completed"
    },
    "tags": []
   },
   "outputs": [],
   "source": []
  }
 ],
 "metadata": {
  "kaggle": {
   "accelerator": "none",
   "dataSources": [
    {
     "datasetId": 6769817,
     "sourceId": 10893500,
     "sourceType": "datasetVersion"
    }
   ],
   "dockerImageVersionId": 30918,
   "isGpuEnabled": false,
   "isInternetEnabled": true,
   "language": "python",
   "sourceType": "notebook"
  },
  "kernelspec": {
   "display_name": "Python 3",
   "language": "python",
   "name": "python3"
  },
  "language_info": {
   "codemirror_mode": {
    "name": "ipython",
    "version": 3
   },
   "file_extension": ".py",
   "mimetype": "text/x-python",
   "name": "python",
   "nbconvert_exporter": "python",
   "pygments_lexer": "ipython3",
   "version": "3.10.12"
  },
  "papermill": {
   "default_parameters": {},
   "duration": 5.316411,
   "end_time": "2025-03-02T03:37:01.481671",
   "environment_variables": {},
   "exception": null,
   "input_path": "__notebook__.ipynb",
   "output_path": "__notebook__.ipynb",
   "parameters": {},
   "start_time": "2025-03-02T03:36:56.165260",
   "version": "2.6.0"
  }
 },
 "nbformat": 4,
 "nbformat_minor": 5
}
