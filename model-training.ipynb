{
 "cells": [
  {
   "cell_type": "code",
   "execution_count": 1,
   "id": "9665c7b9",
   "metadata": {
    "execution": {
     "iopub.execute_input": "2025-03-03T15:34:31.909573Z",
     "iopub.status.busy": "2025-03-03T15:34:31.909214Z",
     "iopub.status.idle": "2025-03-03T15:34:34.758467Z",
     "shell.execute_reply": "2025-03-03T15:34:34.757223Z"
    },
    "papermill": {
     "duration": 2.859838,
     "end_time": "2025-03-03T15:34:34.761264",
     "exception": false,
     "start_time": "2025-03-03T15:34:31.901426",
     "status": "completed"
    },
    "tags": []
   },
   "outputs": [],
   "source": [
    "import numpy as np\n",
    "import pandas as pd\n",
    "import matplotlib.pyplot as plt\n",
    "from sklearn.model_selection import train_test_split\n",
    "from sklearn.preprocessing import MinMaxScaler\n",
    "from sklearn.preprocessing import StandardScaler\n",
    "from sklearn.linear_model import LinearRegression\n",
    "from sklearn.metrics import mean_absolute_error, mean_squared_error, r2_score\n"
   ]
  },
  {
   "cell_type": "code",
   "execution_count": 2,
   "id": "b583500a",
   "metadata": {
    "execution": {
     "iopub.execute_input": "2025-03-03T15:34:34.774922Z",
     "iopub.status.busy": "2025-03-03T15:34:34.774320Z",
     "iopub.status.idle": "2025-03-03T15:34:34.922099Z",
     "shell.execute_reply": "2025-03-03T15:34:34.920811Z"
    },
    "papermill": {
     "duration": 0.157306,
     "end_time": "2025-03-03T15:34:34.924740",
     "exception": false,
     "start_time": "2025-03-03T15:34:34.767434",
     "status": "completed"
    },
    "tags": []
   },
   "outputs": [],
   "source": [
    "df = pd.read_csv('/kaggle/input/euro-usd-data/EUR_USD_price_2000_2025.csv')"
   ]
  },
  {
   "cell_type": "code",
   "execution_count": 3,
   "id": "7ad69a9b",
   "metadata": {
    "execution": {
     "iopub.execute_input": "2025-03-03T15:34:34.941877Z",
     "iopub.status.busy": "2025-03-03T15:34:34.941462Z",
     "iopub.status.idle": "2025-03-03T15:34:34.994318Z",
     "shell.execute_reply": "2025-03-03T15:34:34.993044Z"
    },
    "papermill": {
     "duration": 0.063452,
     "end_time": "2025-03-03T15:34:34.996278",
     "exception": false,
     "start_time": "2025-03-03T15:34:34.932826",
     "status": "completed"
    },
    "tags": []
   },
   "outputs": [
    {
     "data": {
      "text/html": [
       "<div>\n",
       "<style scoped>\n",
       "    .dataframe tbody tr th:only-of-type {\n",
       "        vertical-align: middle;\n",
       "    }\n",
       "\n",
       "    .dataframe tbody tr th {\n",
       "        vertical-align: top;\n",
       "    }\n",
       "\n",
       "    .dataframe thead th {\n",
       "        text-align: right;\n",
       "    }\n",
       "</style>\n",
       "<table border=\"1\" class=\"dataframe\">\n",
       "  <thead>\n",
       "    <tr style=\"text-align: right;\">\n",
       "      <th></th>\n",
       "      <th>Unnamed: 0</th>\n",
       "      <th>Date</th>\n",
       "      <th>Price</th>\n",
       "      <th>Open</th>\n",
       "      <th>High</th>\n",
       "      <th>Low</th>\n",
       "      <th>Change %</th>\n",
       "      <th>SMA_7</th>\n",
       "      <th>SMA_30</th>\n",
       "      <th>SMA_100</th>\n",
       "      <th>...</th>\n",
       "      <th>Lag_30</th>\n",
       "      <th>SMA_20</th>\n",
       "      <th>STD_20</th>\n",
       "      <th>Upper_Band</th>\n",
       "      <th>Lower_Band</th>\n",
       "      <th>High-Low</th>\n",
       "      <th>High-Close</th>\n",
       "      <th>Low-Close</th>\n",
       "      <th>TR</th>\n",
       "      <th>ATR_14</th>\n",
       "    </tr>\n",
       "  </thead>\n",
       "  <tbody>\n",
       "    <tr>\n",
       "      <th>0</th>\n",
       "      <td>0</td>\n",
       "      <td>2000-03-02</td>\n",
       "      <td>0.9642</td>\n",
       "      <td>0.9732</td>\n",
       "      <td>0.9795</td>\n",
       "      <td>0.9614</td>\n",
       "      <td>-0.0095</td>\n",
       "      <td>0.977686</td>\n",
       "      <td>0.985223</td>\n",
       "      <td>0.997420</td>\n",
       "      <td>...</td>\n",
       "      <td>1.0172</td>\n",
       "      <td>0.983445</td>\n",
       "      <td>0.010607</td>\n",
       "      <td>1.004658</td>\n",
       "      <td>0.962232</td>\n",
       "      <td>0.0181</td>\n",
       "      <td>0.0061</td>\n",
       "      <td>0.0120</td>\n",
       "      <td>0.0181</td>\n",
       "      <td>0.015500</td>\n",
       "    </tr>\n",
       "    <tr>\n",
       "      <th>1</th>\n",
       "      <td>1</td>\n",
       "      <td>2000-03-03</td>\n",
       "      <td>0.9597</td>\n",
       "      <td>0.9646</td>\n",
       "      <td>0.9680</td>\n",
       "      <td>0.9590</td>\n",
       "      <td>-0.0047</td>\n",
       "      <td>0.971529</td>\n",
       "      <td>0.983583</td>\n",
       "      <td>0.996582</td>\n",
       "      <td>...</td>\n",
       "      <td>1.0089</td>\n",
       "      <td>0.982305</td>\n",
       "      <td>0.011864</td>\n",
       "      <td>1.006033</td>\n",
       "      <td>0.958577</td>\n",
       "      <td>0.0090</td>\n",
       "      <td>0.0038</td>\n",
       "      <td>0.0052</td>\n",
       "      <td>0.0090</td>\n",
       "      <td>0.015114</td>\n",
       "    </tr>\n",
       "    <tr>\n",
       "      <th>2</th>\n",
       "      <td>2</td>\n",
       "      <td>2000-03-06</td>\n",
       "      <td>0.9592</td>\n",
       "      <td>0.9577</td>\n",
       "      <td>0.9673</td>\n",
       "      <td>0.9560</td>\n",
       "      <td>-0.0005</td>\n",
       "      <td>0.966714</td>\n",
       "      <td>0.981973</td>\n",
       "      <td>0.995770</td>\n",
       "      <td>...</td>\n",
       "      <td>1.0075</td>\n",
       "      <td>0.981225</td>\n",
       "      <td>0.012943</td>\n",
       "      <td>1.007110</td>\n",
       "      <td>0.955340</td>\n",
       "      <td>0.0113</td>\n",
       "      <td>0.0076</td>\n",
       "      <td>0.0037</td>\n",
       "      <td>0.0113</td>\n",
       "      <td>0.015207</td>\n",
       "    </tr>\n",
       "    <tr>\n",
       "      <th>3</th>\n",
       "      <td>3</td>\n",
       "      <td>2000-03-07</td>\n",
       "      <td>0.9596</td>\n",
       "      <td>0.9590</td>\n",
       "      <td>0.9628</td>\n",
       "      <td>0.9527</td>\n",
       "      <td>0.0004</td>\n",
       "      <td>0.964629</td>\n",
       "      <td>0.980617</td>\n",
       "      <td>0.995000</td>\n",
       "      <td>...</td>\n",
       "      <td>1.0003</td>\n",
       "      <td>0.979935</td>\n",
       "      <td>0.013764</td>\n",
       "      <td>1.007463</td>\n",
       "      <td>0.952407</td>\n",
       "      <td>0.0101</td>\n",
       "      <td>0.0036</td>\n",
       "      <td>0.0065</td>\n",
       "      <td>0.0101</td>\n",
       "      <td>0.015314</td>\n",
       "    </tr>\n",
       "    <tr>\n",
       "      <th>4</th>\n",
       "      <td>4</td>\n",
       "      <td>2000-03-08</td>\n",
       "      <td>0.9605</td>\n",
       "      <td>0.9587</td>\n",
       "      <td>0.9632</td>\n",
       "      <td>0.9522</td>\n",
       "      <td>0.0009</td>\n",
       "      <td>0.963029</td>\n",
       "      <td>0.979270</td>\n",
       "      <td>0.994281</td>\n",
       "      <td>...</td>\n",
       "      <td>1.0009</td>\n",
       "      <td>0.978270</td>\n",
       "      <td>0.014011</td>\n",
       "      <td>1.006291</td>\n",
       "      <td>0.950249</td>\n",
       "      <td>0.0110</td>\n",
       "      <td>0.0036</td>\n",
       "      <td>0.0074</td>\n",
       "      <td>0.0110</td>\n",
       "      <td>0.015243</td>\n",
       "    </tr>\n",
       "  </tbody>\n",
       "</table>\n",
       "<p>5 rows × 41 columns</p>\n",
       "</div>"
      ],
      "text/plain": [
       "   Unnamed: 0        Date   Price    Open    High     Low  Change %     SMA_7  \\\n",
       "0           0  2000-03-02  0.9642  0.9732  0.9795  0.9614   -0.0095  0.977686   \n",
       "1           1  2000-03-03  0.9597  0.9646  0.9680  0.9590   -0.0047  0.971529   \n",
       "2           2  2000-03-06  0.9592  0.9577  0.9673  0.9560   -0.0005  0.966714   \n",
       "3           3  2000-03-07  0.9596  0.9590  0.9628  0.9527    0.0004  0.964629   \n",
       "4           4  2000-03-08  0.9605  0.9587  0.9632  0.9522    0.0009  0.963029   \n",
       "\n",
       "     SMA_30   SMA_100  ...  Lag_30    SMA_20    STD_20  Upper_Band  \\\n",
       "0  0.985223  0.997420  ...  1.0172  0.983445  0.010607    1.004658   \n",
       "1  0.983583  0.996582  ...  1.0089  0.982305  0.011864    1.006033   \n",
       "2  0.981973  0.995770  ...  1.0075  0.981225  0.012943    1.007110   \n",
       "3  0.980617  0.995000  ...  1.0003  0.979935  0.013764    1.007463   \n",
       "4  0.979270  0.994281  ...  1.0009  0.978270  0.014011    1.006291   \n",
       "\n",
       "   Lower_Band  High-Low  High-Close  Low-Close      TR    ATR_14  \n",
       "0    0.962232    0.0181      0.0061     0.0120  0.0181  0.015500  \n",
       "1    0.958577    0.0090      0.0038     0.0052  0.0090  0.015114  \n",
       "2    0.955340    0.0113      0.0076     0.0037  0.0113  0.015207  \n",
       "3    0.952407    0.0101      0.0036     0.0065  0.0101  0.015314  \n",
       "4    0.950249    0.0110      0.0036     0.0074  0.0110  0.015243  \n",
       "\n",
       "[5 rows x 41 columns]"
      ]
     },
     "execution_count": 3,
     "metadata": {},
     "output_type": "execute_result"
    }
   ],
   "source": [
    "df.head()"
   ]
  },
  {
   "cell_type": "code",
   "execution_count": 4,
   "id": "ceb6af64",
   "metadata": {
    "execution": {
     "iopub.execute_input": "2025-03-03T15:34:35.011305Z",
     "iopub.status.busy": "2025-03-03T15:34:35.010946Z",
     "iopub.status.idle": "2025-03-03T15:34:35.049471Z",
     "shell.execute_reply": "2025-03-03T15:34:35.047999Z"
    },
    "papermill": {
     "duration": 0.048468,
     "end_time": "2025-03-03T15:34:35.051497",
     "exception": false,
     "start_time": "2025-03-03T15:34:35.003029",
     "status": "completed"
    },
    "tags": []
   },
   "outputs": [
    {
     "name": "stdout",
     "output_type": "stream",
     "text": [
      "<class 'pandas.core.frame.DataFrame'>\n",
      "RangeIndex: 6514 entries, 0 to 6513\n",
      "Data columns (total 41 columns):\n",
      " #   Column        Non-Null Count  Dtype  \n",
      "---  ------        --------------  -----  \n",
      " 0   Unnamed: 0    6514 non-null   int64  \n",
      " 1   Date          6514 non-null   object \n",
      " 2   Price         6514 non-null   float64\n",
      " 3   Open          6514 non-null   float64\n",
      " 4   High          6514 non-null   float64\n",
      " 5   Low           6514 non-null   float64\n",
      " 6   Change %      6514 non-null   float64\n",
      " 7   SMA_7         6514 non-null   float64\n",
      " 8   SMA_30        6514 non-null   float64\n",
      " 9   SMA_100       6514 non-null   float64\n",
      " 10  SMA_200       6514 non-null   float64\n",
      " 11  Day           6514 non-null   object \n",
      " 12  Week          6514 non-null   int64  \n",
      " 13  Month         6514 non-null   int64  \n",
      " 14  Year          6514 non-null   int64  \n",
      " 15  Price_Change  6514 non-null   float64\n",
      " 16  Gain          6514 non-null   float64\n",
      " 17  Loss          6514 non-null   float64\n",
      " 18  Avg_Gain      6514 non-null   float64\n",
      " 19  Avg_Loss      6514 non-null   float64\n",
      " 20  RS            6514 non-null   float64\n",
      " 21  RSI_14        6514 non-null   float64\n",
      " 22  EMA_12        6514 non-null   float64\n",
      " 23  EMA_26        6514 non-null   float64\n",
      " 24  MACD          6514 non-null   float64\n",
      " 25  Signal_Line   6514 non-null   float64\n",
      " 26  Lag_1         6514 non-null   float64\n",
      " 27  Lag_3         6514 non-null   float64\n",
      " 28  Lag_7         6514 non-null   float64\n",
      " 29  Target_Price  6514 non-null   float64\n",
      " 30  Lag_14        6514 non-null   float64\n",
      " 31  Lag_30        6514 non-null   float64\n",
      " 32  SMA_20        6514 non-null   float64\n",
      " 33  STD_20        6514 non-null   float64\n",
      " 34  Upper_Band    6514 non-null   float64\n",
      " 35  Lower_Band    6514 non-null   float64\n",
      " 36  High-Low      6514 non-null   float64\n",
      " 37  High-Close    6514 non-null   float64\n",
      " 38  Low-Close     6514 non-null   float64\n",
      " 39  TR            6514 non-null   float64\n",
      " 40  ATR_14        6514 non-null   float64\n",
      "dtypes: float64(35), int64(4), object(2)\n",
      "memory usage: 2.0+ MB\n"
     ]
    }
   ],
   "source": [
    "df.info()"
   ]
  },
  {
   "cell_type": "code",
   "execution_count": 5,
   "id": "290b518e",
   "metadata": {
    "execution": {
     "iopub.execute_input": "2025-03-03T15:34:35.066171Z",
     "iopub.status.busy": "2025-03-03T15:34:35.065801Z",
     "iopub.status.idle": "2025-03-03T15:34:35.099089Z",
     "shell.execute_reply": "2025-03-03T15:34:35.097850Z"
    },
    "papermill": {
     "duration": 0.04339,
     "end_time": "2025-03-03T15:34:35.101568",
     "exception": false,
     "start_time": "2025-03-03T15:34:35.058178",
     "status": "completed"
    },
    "tags": []
   },
   "outputs": [
    {
     "data": {
      "text/html": [
       "<div>\n",
       "<style scoped>\n",
       "    .dataframe tbody tr th:only-of-type {\n",
       "        vertical-align: middle;\n",
       "    }\n",
       "\n",
       "    .dataframe tbody tr th {\n",
       "        vertical-align: top;\n",
       "    }\n",
       "\n",
       "    .dataframe thead th {\n",
       "        text-align: right;\n",
       "    }\n",
       "</style>\n",
       "<table border=\"1\" class=\"dataframe\">\n",
       "  <thead>\n",
       "    <tr style=\"text-align: right;\">\n",
       "      <th></th>\n",
       "      <th>Date</th>\n",
       "      <th>Price</th>\n",
       "      <th>Open</th>\n",
       "      <th>High</th>\n",
       "      <th>Low</th>\n",
       "      <th>Change %</th>\n",
       "      <th>SMA_7</th>\n",
       "      <th>SMA_30</th>\n",
       "      <th>SMA_100</th>\n",
       "      <th>SMA_200</th>\n",
       "      <th>...</th>\n",
       "      <th>Lag_30</th>\n",
       "      <th>SMA_20</th>\n",
       "      <th>STD_20</th>\n",
       "      <th>Upper_Band</th>\n",
       "      <th>Lower_Band</th>\n",
       "      <th>High-Low</th>\n",
       "      <th>High-Close</th>\n",
       "      <th>Low-Close</th>\n",
       "      <th>TR</th>\n",
       "      <th>ATR_14</th>\n",
       "    </tr>\n",
       "  </thead>\n",
       "  <tbody>\n",
       "    <tr>\n",
       "      <th>0</th>\n",
       "      <td>2000-03-02</td>\n",
       "      <td>0.9642</td>\n",
       "      <td>0.9732</td>\n",
       "      <td>0.9795</td>\n",
       "      <td>0.9614</td>\n",
       "      <td>-0.0095</td>\n",
       "      <td>0.977686</td>\n",
       "      <td>0.985223</td>\n",
       "      <td>0.997420</td>\n",
       "      <td>0.997420</td>\n",
       "      <td>...</td>\n",
       "      <td>1.0172</td>\n",
       "      <td>0.983445</td>\n",
       "      <td>0.010607</td>\n",
       "      <td>1.004658</td>\n",
       "      <td>0.962232</td>\n",
       "      <td>0.0181</td>\n",
       "      <td>0.0061</td>\n",
       "      <td>0.0120</td>\n",
       "      <td>0.0181</td>\n",
       "      <td>0.015500</td>\n",
       "    </tr>\n",
       "    <tr>\n",
       "      <th>1</th>\n",
       "      <td>2000-03-03</td>\n",
       "      <td>0.9597</td>\n",
       "      <td>0.9646</td>\n",
       "      <td>0.9680</td>\n",
       "      <td>0.9590</td>\n",
       "      <td>-0.0047</td>\n",
       "      <td>0.971529</td>\n",
       "      <td>0.983583</td>\n",
       "      <td>0.996582</td>\n",
       "      <td>0.996582</td>\n",
       "      <td>...</td>\n",
       "      <td>1.0089</td>\n",
       "      <td>0.982305</td>\n",
       "      <td>0.011864</td>\n",
       "      <td>1.006033</td>\n",
       "      <td>0.958577</td>\n",
       "      <td>0.0090</td>\n",
       "      <td>0.0038</td>\n",
       "      <td>0.0052</td>\n",
       "      <td>0.0090</td>\n",
       "      <td>0.015114</td>\n",
       "    </tr>\n",
       "    <tr>\n",
       "      <th>2</th>\n",
       "      <td>2000-03-06</td>\n",
       "      <td>0.9592</td>\n",
       "      <td>0.9577</td>\n",
       "      <td>0.9673</td>\n",
       "      <td>0.9560</td>\n",
       "      <td>-0.0005</td>\n",
       "      <td>0.966714</td>\n",
       "      <td>0.981973</td>\n",
       "      <td>0.995770</td>\n",
       "      <td>0.995770</td>\n",
       "      <td>...</td>\n",
       "      <td>1.0075</td>\n",
       "      <td>0.981225</td>\n",
       "      <td>0.012943</td>\n",
       "      <td>1.007110</td>\n",
       "      <td>0.955340</td>\n",
       "      <td>0.0113</td>\n",
       "      <td>0.0076</td>\n",
       "      <td>0.0037</td>\n",
       "      <td>0.0113</td>\n",
       "      <td>0.015207</td>\n",
       "    </tr>\n",
       "    <tr>\n",
       "      <th>3</th>\n",
       "      <td>2000-03-07</td>\n",
       "      <td>0.9596</td>\n",
       "      <td>0.9590</td>\n",
       "      <td>0.9628</td>\n",
       "      <td>0.9527</td>\n",
       "      <td>0.0004</td>\n",
       "      <td>0.964629</td>\n",
       "      <td>0.980617</td>\n",
       "      <td>0.995000</td>\n",
       "      <td>0.995000</td>\n",
       "      <td>...</td>\n",
       "      <td>1.0003</td>\n",
       "      <td>0.979935</td>\n",
       "      <td>0.013764</td>\n",
       "      <td>1.007463</td>\n",
       "      <td>0.952407</td>\n",
       "      <td>0.0101</td>\n",
       "      <td>0.0036</td>\n",
       "      <td>0.0065</td>\n",
       "      <td>0.0101</td>\n",
       "      <td>0.015314</td>\n",
       "    </tr>\n",
       "    <tr>\n",
       "      <th>4</th>\n",
       "      <td>2000-03-08</td>\n",
       "      <td>0.9605</td>\n",
       "      <td>0.9587</td>\n",
       "      <td>0.9632</td>\n",
       "      <td>0.9522</td>\n",
       "      <td>0.0009</td>\n",
       "      <td>0.963029</td>\n",
       "      <td>0.979270</td>\n",
       "      <td>0.994281</td>\n",
       "      <td>0.994281</td>\n",
       "      <td>...</td>\n",
       "      <td>1.0009</td>\n",
       "      <td>0.978270</td>\n",
       "      <td>0.014011</td>\n",
       "      <td>1.006291</td>\n",
       "      <td>0.950249</td>\n",
       "      <td>0.0110</td>\n",
       "      <td>0.0036</td>\n",
       "      <td>0.0074</td>\n",
       "      <td>0.0110</td>\n",
       "      <td>0.015243</td>\n",
       "    </tr>\n",
       "    <tr>\n",
       "      <th>...</th>\n",
       "      <td>...</td>\n",
       "      <td>...</td>\n",
       "      <td>...</td>\n",
       "      <td>...</td>\n",
       "      <td>...</td>\n",
       "      <td>...</td>\n",
       "      <td>...</td>\n",
       "      <td>...</td>\n",
       "      <td>...</td>\n",
       "      <td>...</td>\n",
       "      <td>...</td>\n",
       "      <td>...</td>\n",
       "      <td>...</td>\n",
       "      <td>...</td>\n",
       "      <td>...</td>\n",
       "      <td>...</td>\n",
       "      <td>...</td>\n",
       "      <td>...</td>\n",
       "      <td>...</td>\n",
       "      <td>...</td>\n",
       "      <td>...</td>\n",
       "    </tr>\n",
       "    <tr>\n",
       "      <th>6508</th>\n",
       "      <td>2025-02-13</td>\n",
       "      <td>1.0464</td>\n",
       "      <td>1.0387</td>\n",
       "      <td>1.0467</td>\n",
       "      <td>1.0373</td>\n",
       "      <td>0.0079</td>\n",
       "      <td>1.037457</td>\n",
       "      <td>1.036327</td>\n",
       "      <td>1.057706</td>\n",
       "      <td>1.074550</td>\n",
       "      <td>...</td>\n",
       "      <td>1.0265</td>\n",
       "      <td>1.039315</td>\n",
       "      <td>0.005661</td>\n",
       "      <td>1.050637</td>\n",
       "      <td>1.027993</td>\n",
       "      <td>0.0094</td>\n",
       "      <td>0.0085</td>\n",
       "      <td>0.0009</td>\n",
       "      <td>0.0094</td>\n",
       "      <td>0.009357</td>\n",
       "    </tr>\n",
       "    <tr>\n",
       "      <th>6509</th>\n",
       "      <td>2025-02-14</td>\n",
       "      <td>1.0491</td>\n",
       "      <td>1.0465</td>\n",
       "      <td>1.0515</td>\n",
       "      <td>1.0446</td>\n",
       "      <td>0.0026</td>\n",
       "      <td>1.038729</td>\n",
       "      <td>1.036937</td>\n",
       "      <td>1.057034</td>\n",
       "      <td>1.074411</td>\n",
       "      <td>...</td>\n",
       "      <td>1.0308</td>\n",
       "      <td>1.040415</td>\n",
       "      <td>0.005288</td>\n",
       "      <td>1.050990</td>\n",
       "      <td>1.029840</td>\n",
       "      <td>0.0069</td>\n",
       "      <td>0.0051</td>\n",
       "      <td>0.0018</td>\n",
       "      <td>0.0069</td>\n",
       "      <td>0.009279</td>\n",
       "    </tr>\n",
       "    <tr>\n",
       "      <th>6510</th>\n",
       "      <td>2025-02-17</td>\n",
       "      <td>1.0482</td>\n",
       "      <td>1.0489</td>\n",
       "      <td>1.0507</td>\n",
       "      <td>1.0467</td>\n",
       "      <td>-0.0009</td>\n",
       "      <td>1.040171</td>\n",
       "      <td>1.037243</td>\n",
       "      <td>1.056382</td>\n",
       "      <td>1.074258</td>\n",
       "      <td>...</td>\n",
       "      <td>1.0390</td>\n",
       "      <td>1.040755</td>\n",
       "      <td>0.005566</td>\n",
       "      <td>1.051886</td>\n",
       "      <td>1.029624</td>\n",
       "      <td>0.0040</td>\n",
       "      <td>0.0016</td>\n",
       "      <td>0.0024</td>\n",
       "      <td>0.0040</td>\n",
       "      <td>0.008986</td>\n",
       "    </tr>\n",
       "    <tr>\n",
       "      <th>6511</th>\n",
       "      <td>2025-02-18</td>\n",
       "      <td>1.0445</td>\n",
       "      <td>1.0484</td>\n",
       "      <td>1.0488</td>\n",
       "      <td>1.0435</td>\n",
       "      <td>-0.0035</td>\n",
       "      <td>1.041857</td>\n",
       "      <td>1.037597</td>\n",
       "      <td>1.055760</td>\n",
       "      <td>1.074071</td>\n",
       "      <td>...</td>\n",
       "      <td>1.0339</td>\n",
       "      <td>1.040835</td>\n",
       "      <td>0.005609</td>\n",
       "      <td>1.052054</td>\n",
       "      <td>1.029616</td>\n",
       "      <td>0.0053</td>\n",
       "      <td>0.0006</td>\n",
       "      <td>0.0047</td>\n",
       "      <td>0.0053</td>\n",
       "      <td>0.008921</td>\n",
       "    </tr>\n",
       "    <tr>\n",
       "      <th>6512</th>\n",
       "      <td>2025-02-19</td>\n",
       "      <td>1.0421</td>\n",
       "      <td>1.0443</td>\n",
       "      <td>1.0462</td>\n",
       "      <td>1.0401</td>\n",
       "      <td>-0.0023</td>\n",
       "      <td>1.043500</td>\n",
       "      <td>1.037940</td>\n",
       "      <td>1.055136</td>\n",
       "      <td>1.073841</td>\n",
       "      <td>...</td>\n",
       "      <td>1.0318</td>\n",
       "      <td>1.040905</td>\n",
       "      <td>0.005616</td>\n",
       "      <td>1.052138</td>\n",
       "      <td>1.029672</td>\n",
       "      <td>0.0061</td>\n",
       "      <td>0.0017</td>\n",
       "      <td>0.0044</td>\n",
       "      <td>0.0061</td>\n",
       "      <td>0.008771</td>\n",
       "    </tr>\n",
       "  </tbody>\n",
       "</table>\n",
       "<p>6513 rows × 40 columns</p>\n",
       "</div>"
      ],
      "text/plain": [
       "            Date   Price    Open    High     Low  Change %     SMA_7  \\\n",
       "0     2000-03-02  0.9642  0.9732  0.9795  0.9614   -0.0095  0.977686   \n",
       "1     2000-03-03  0.9597  0.9646  0.9680  0.9590   -0.0047  0.971529   \n",
       "2     2000-03-06  0.9592  0.9577  0.9673  0.9560   -0.0005  0.966714   \n",
       "3     2000-03-07  0.9596  0.9590  0.9628  0.9527    0.0004  0.964629   \n",
       "4     2000-03-08  0.9605  0.9587  0.9632  0.9522    0.0009  0.963029   \n",
       "...          ...     ...     ...     ...     ...       ...       ...   \n",
       "6508  2025-02-13  1.0464  1.0387  1.0467  1.0373    0.0079  1.037457   \n",
       "6509  2025-02-14  1.0491  1.0465  1.0515  1.0446    0.0026  1.038729   \n",
       "6510  2025-02-17  1.0482  1.0489  1.0507  1.0467   -0.0009  1.040171   \n",
       "6511  2025-02-18  1.0445  1.0484  1.0488  1.0435   -0.0035  1.041857   \n",
       "6512  2025-02-19  1.0421  1.0443  1.0462  1.0401   -0.0023  1.043500   \n",
       "\n",
       "        SMA_30   SMA_100   SMA_200  ...  Lag_30    SMA_20    STD_20  \\\n",
       "0     0.985223  0.997420  0.997420  ...  1.0172  0.983445  0.010607   \n",
       "1     0.983583  0.996582  0.996582  ...  1.0089  0.982305  0.011864   \n",
       "2     0.981973  0.995770  0.995770  ...  1.0075  0.981225  0.012943   \n",
       "3     0.980617  0.995000  0.995000  ...  1.0003  0.979935  0.013764   \n",
       "4     0.979270  0.994281  0.994281  ...  1.0009  0.978270  0.014011   \n",
       "...        ...       ...       ...  ...     ...       ...       ...   \n",
       "6508  1.036327  1.057706  1.074550  ...  1.0265  1.039315  0.005661   \n",
       "6509  1.036937  1.057034  1.074411  ...  1.0308  1.040415  0.005288   \n",
       "6510  1.037243  1.056382  1.074258  ...  1.0390  1.040755  0.005566   \n",
       "6511  1.037597  1.055760  1.074071  ...  1.0339  1.040835  0.005609   \n",
       "6512  1.037940  1.055136  1.073841  ...  1.0318  1.040905  0.005616   \n",
       "\n",
       "      Upper_Band  Lower_Band  High-Low  High-Close  Low-Close      TR  \\\n",
       "0       1.004658    0.962232    0.0181      0.0061     0.0120  0.0181   \n",
       "1       1.006033    0.958577    0.0090      0.0038     0.0052  0.0090   \n",
       "2       1.007110    0.955340    0.0113      0.0076     0.0037  0.0113   \n",
       "3       1.007463    0.952407    0.0101      0.0036     0.0065  0.0101   \n",
       "4       1.006291    0.950249    0.0110      0.0036     0.0074  0.0110   \n",
       "...          ...         ...       ...         ...        ...     ...   \n",
       "6508    1.050637    1.027993    0.0094      0.0085     0.0009  0.0094   \n",
       "6509    1.050990    1.029840    0.0069      0.0051     0.0018  0.0069   \n",
       "6510    1.051886    1.029624    0.0040      0.0016     0.0024  0.0040   \n",
       "6511    1.052054    1.029616    0.0053      0.0006     0.0047  0.0053   \n",
       "6512    1.052138    1.029672    0.0061      0.0017     0.0044  0.0061   \n",
       "\n",
       "        ATR_14  \n",
       "0     0.015500  \n",
       "1     0.015114  \n",
       "2     0.015207  \n",
       "3     0.015314  \n",
       "4     0.015243  \n",
       "...        ...  \n",
       "6508  0.009357  \n",
       "6509  0.009279  \n",
       "6510  0.008986  \n",
       "6511  0.008921  \n",
       "6512  0.008771  \n",
       "\n",
       "[6513 rows x 40 columns]"
      ]
     },
     "execution_count": 5,
     "metadata": {},
     "output_type": "execute_result"
    }
   ],
   "source": [
    "# romove unnamed column\n",
    "df.drop('Unnamed: 0', axis=1, inplace=True)\n",
    "df.head(-1)"
   ]
  },
  {
   "cell_type": "code",
   "execution_count": 6,
   "id": "596b79d2",
   "metadata": {
    "execution": {
     "iopub.execute_input": "2025-03-03T15:34:35.122378Z",
     "iopub.status.busy": "2025-03-03T15:34:35.121873Z",
     "iopub.status.idle": "2025-03-03T15:34:35.135282Z",
     "shell.execute_reply": "2025-03-03T15:34:35.134188Z"
    },
    "papermill": {
     "duration": 0.023424,
     "end_time": "2025-03-03T15:34:35.137303",
     "exception": false,
     "start_time": "2025-03-03T15:34:35.113879",
     "status": "completed"
    },
    "tags": []
   },
   "outputs": [],
   "source": [
    "# changing the date column to datetime\n",
    "df['Date'] = pd.to_datetime(df['Date'], format='%Y-%m-%d')"
   ]
  },
  {
   "cell_type": "code",
   "execution_count": 7,
   "id": "a51658eb",
   "metadata": {
    "execution": {
     "iopub.execute_input": "2025-03-03T15:34:35.152932Z",
     "iopub.status.busy": "2025-03-03T15:34:35.152414Z",
     "iopub.status.idle": "2025-03-03T15:34:35.166445Z",
     "shell.execute_reply": "2025-03-03T15:34:35.165267Z"
    },
    "papermill": {
     "duration": 0.024329,
     "end_time": "2025-03-03T15:34:35.168575",
     "exception": false,
     "start_time": "2025-03-03T15:34:35.144246",
     "status": "completed"
    },
    "tags": []
   },
   "outputs": [
    {
     "name": "stdout",
     "output_type": "stream",
     "text": [
      "Train size: 5211, Test size: 1303\n"
     ]
    }
   ],
   "source": [
    "# splitting data for test and train\n",
    "X = df.drop(columns=['Target_Price'])\n",
    "y = df['Target_Price']\n",
    "\n",
    "X_train,X_test,y_train,y_test = train_test_split(X,y,test_size = 0.2,shuffle=False)\n",
    "\n",
    "print(f\"Train size: {len(X_train)}, Test size: {len(X_test)}\")"
   ]
  },
  {
   "cell_type": "markdown",
   "id": "4996abf4",
   "metadata": {
    "papermill": {
     "duration": 0.006569,
     "end_time": "2025-03-03T15:34:35.182055",
     "exception": false,
     "start_time": "2025-03-03T15:34:35.175486",
     "status": "completed"
    },
    "tags": []
   },
   "source": [
    "# Normalization\n",
    "\n",
    "- MinMax scaling on the price_based features"
   ]
  },
  {
   "cell_type": "code",
   "execution_count": 8,
   "id": "de065030",
   "metadata": {
    "execution": {
     "iopub.execute_input": "2025-03-03T15:34:35.196999Z",
     "iopub.status.busy": "2025-03-03T15:34:35.196567Z",
     "iopub.status.idle": "2025-03-03T15:34:35.210397Z",
     "shell.execute_reply": "2025-03-03T15:34:35.209242Z"
    },
    "papermill": {
     "duration": 0.023625,
     "end_time": "2025-03-03T15:34:35.212461",
     "exception": false,
     "start_time": "2025-03-03T15:34:35.188836",
     "status": "completed"
    },
    "tags": []
   },
   "outputs": [],
   "source": [
    "#MinMax scaling on price baesd features\n",
    "\n",
    "scaler = MinMaxScaler(feature_range=(0,1))\n",
    "cols_to_normalize = ['Price', 'Open', 'High', 'Low']\n",
    "# Fit only on training data to prevent leakage\n",
    "X_train[cols_to_normalize] = scaler.fit_transform(X_train[cols_to_normalize])\n",
    "X_test[cols_to_normalize] = scaler.transform(X_test[cols_to_normalize])"
   ]
  },
  {
   "cell_type": "markdown",
   "id": "3adc57e9",
   "metadata": {
    "papermill": {
     "duration": 0.006458,
     "end_time": "2025-03-03T15:34:35.225636",
     "exception": false,
     "start_time": "2025-03-03T15:34:35.219178",
     "status": "completed"
    },
    "tags": []
   },
   "source": [
    "- Stander scaling(z_score) on technical indicators"
   ]
  },
  {
   "cell_type": "code",
   "execution_count": 9,
   "id": "8de843a6",
   "metadata": {
    "execution": {
     "iopub.execute_input": "2025-03-03T15:34:35.240634Z",
     "iopub.status.busy": "2025-03-03T15:34:35.240292Z",
     "iopub.status.idle": "2025-03-03T15:34:35.270694Z",
     "shell.execute_reply": "2025-03-03T15:34:35.269514Z"
    },
    "papermill": {
     "duration": 0.040414,
     "end_time": "2025-03-03T15:34:35.272745",
     "exception": false,
     "start_time": "2025-03-03T15:34:35.232331",
     "status": "completed"
    },
    "tags": []
   },
   "outputs": [],
   "source": [
    "# stander scaling on technical indicators\n",
    "scaler = StandardScaler()\n",
    "cols_to_normalize = ['SMA_7','SMA_30','SMA_100','SMA_200','RSI_14','MACD','Signal_Line','Lag_14','Lag_30','SMA_20','Upper_Band','Lower_Band','ATR_14']\n",
    "X_train[cols_to_normalize] = scaler.fit_transform(X_train[cols_to_normalize])\n",
    "X_test[cols_to_normalize] = scaler.transform(X_test[cols_to_normalize])"
   ]
  },
  {
   "cell_type": "markdown",
   "id": "4e982f32",
   "metadata": {
    "papermill": {
     "duration": 0.006666,
     "end_time": "2025-03-03T15:34:35.286348",
     "exception": false,
     "start_time": "2025-03-03T15:34:35.279682",
     "status": "completed"
    },
    "tags": []
   },
   "source": [
    "## Workflow\n",
    "1. **Model Selection & Baseline Model**\n",
    "2. **Experimenting with Advanced Models**\n",
    "3. **Hyperparameter Tuning**\n",
    "4. **Model Evaluation & Validation**\n",
    "5. **Model Deployment**\n",
    "6. **Documentation & Final Report**\n",
    "7. **Future Improvements**\n",
    "\n",
    "# Model Training\n",
    "## Linear regression\n",
    "linear regression model can not train the data with the datetime column so i am drop the date column"
   ]
  },
  {
   "cell_type": "code",
   "execution_count": 10,
   "id": "a81509c6",
   "metadata": {
    "execution": {
     "iopub.execute_input": "2025-03-03T15:34:35.302210Z",
     "iopub.status.busy": "2025-03-03T15:34:35.301854Z",
     "iopub.status.idle": "2025-03-03T15:34:35.312263Z",
     "shell.execute_reply": "2025-03-03T15:34:35.310840Z"
    },
    "papermill": {
     "duration": 0.019949,
     "end_time": "2025-03-03T15:34:35.314090",
     "exception": false,
     "start_time": "2025-03-03T15:34:35.294141",
     "status": "completed"
    },
    "tags": []
   },
   "outputs": [
    {
     "name": "stdout",
     "output_type": "stream",
     "text": [
      "Train size: 5211, Test size: 1303\n"
     ]
    }
   ],
   "source": [
    "# splitting the data for the linear regression\n",
    "X_train_1,X_test_1,y_train_1,y_test_1 = train_test_split(X,y,test_size = 0.2,shuffle=False)\n",
    "\n",
    "print(f\"Train size: {len(X_train_1)}, Test size: {len(X_test_1)}\")"
   ]
  },
  {
   "cell_type": "markdown",
   "id": "5cd5bcb7",
   "metadata": {
    "papermill": {
     "duration": 0.006658,
     "end_time": "2025-03-03T15:34:35.329931",
     "exception": false,
     "start_time": "2025-03-03T15:34:35.323273",
     "status": "completed"
    },
    "tags": []
   },
   "source": [
    "# normalization for the linear regression data"
   ]
  },
  {
   "cell_type": "code",
   "execution_count": 11,
   "id": "8685104a",
   "metadata": {
    "execution": {
     "iopub.execute_input": "2025-03-03T15:34:35.344836Z",
     "iopub.status.busy": "2025-03-03T15:34:35.344424Z",
     "iopub.status.idle": "2025-03-03T15:34:35.357479Z",
     "shell.execute_reply": "2025-03-03T15:34:35.356322Z"
    },
    "papermill": {
     "duration": 0.023185,
     "end_time": "2025-03-03T15:34:35.359903",
     "exception": false,
     "start_time": "2025-03-03T15:34:35.336718",
     "status": "completed"
    },
    "tags": []
   },
   "outputs": [],
   "source": [
    "#MinMax scaling on price baesd features\n",
    "\n",
    "scaler = MinMaxScaler(feature_range=(0,1))\n",
    "cols_to_normalize = ['Price', 'Open', 'High', 'Low']\n",
    "# Fit only on training data to prevent leakage\n",
    "X_train_1[cols_to_normalize] = scaler.fit_transform(X_train_1[cols_to_normalize])\n",
    "X_test_1[cols_to_normalize] = scaler.transform(X_test_1[cols_to_normalize])"
   ]
  },
  {
   "cell_type": "code",
   "execution_count": 12,
   "id": "323c6164",
   "metadata": {
    "execution": {
     "iopub.execute_input": "2025-03-03T15:34:35.380862Z",
     "iopub.status.busy": "2025-03-03T15:34:35.380367Z",
     "iopub.status.idle": "2025-03-03T15:34:35.401269Z",
     "shell.execute_reply": "2025-03-03T15:34:35.400108Z"
    },
    "papermill": {
     "duration": 0.031376,
     "end_time": "2025-03-03T15:34:35.403491",
     "exception": false,
     "start_time": "2025-03-03T15:34:35.372115",
     "status": "completed"
    },
    "tags": []
   },
   "outputs": [],
   "source": [
    "# stander scaling on technical indicators\n",
    "scaler = StandardScaler()\n",
    "cols_to_normalize = ['SMA_7','SMA_30','SMA_100','SMA_200','RSI_14','MACD','Signal_Line','Lag_14','Lag_30','SMA_20','Upper_Band','Lower_Band','ATR_14']\n",
    "X_train_1[cols_to_normalize] = scaler.fit_transform(X_train_1[cols_to_normalize])\n",
    "X_test_1[cols_to_normalize] = scaler.transform(X_test_1[cols_to_normalize])"
   ]
  },
  {
   "cell_type": "code",
   "execution_count": 13,
   "id": "55f946e2",
   "metadata": {
    "execution": {
     "iopub.execute_input": "2025-03-03T15:34:35.422329Z",
     "iopub.status.busy": "2025-03-03T15:34:35.421161Z",
     "iopub.status.idle": "2025-03-03T15:34:35.434608Z",
     "shell.execute_reply": "2025-03-03T15:34:35.433276Z"
    },
    "papermill": {
     "duration": 0.02509,
     "end_time": "2025-03-03T15:34:35.437115",
     "exception": false,
     "start_time": "2025-03-03T15:34:35.412025",
     "status": "completed"
    },
    "tags": []
   },
   "outputs": [],
   "source": [
    "X_train_1 =  X_train_1.drop(columns=['Date'])\n",
    "X_test_1 =  X_test_1.drop(columns=['Date'])\n",
    "y_train_1 =  y_train_1.drop(columns=['Date'])\n",
    "y_test_1 =  y_test_1.drop(columns=['Date'])"
   ]
  },
  {
   "cell_type": "code",
   "execution_count": 14,
   "id": "2f100bce",
   "metadata": {
    "execution": {
     "iopub.execute_input": "2025-03-03T15:34:35.453035Z",
     "iopub.status.busy": "2025-03-03T15:34:35.452543Z",
     "iopub.status.idle": "2025-03-03T15:34:35.463315Z",
     "shell.execute_reply": "2025-03-03T15:34:35.462177Z"
    },
    "papermill": {
     "duration": 0.020865,
     "end_time": "2025-03-03T15:34:35.465282",
     "exception": false,
     "start_time": "2025-03-03T15:34:35.444417",
     "status": "completed"
    },
    "tags": []
   },
   "outputs": [],
   "source": [
    "X_train_1 =  X_train_1.drop(columns=['Day'])\n",
    "X_test_1 =  X_test_1.drop(columns=['Day'])\n",
    "y_train_1 =  y_train_1.drop(columns=['Day'])\n",
    "y_test_1 =  y_test_1.drop(columns=['Day'])"
   ]
  },
  {
   "cell_type": "code",
   "execution_count": 15,
   "id": "b697cb81",
   "metadata": {
    "execution": {
     "iopub.execute_input": "2025-03-03T15:34:35.480494Z",
     "iopub.status.busy": "2025-03-03T15:34:35.480015Z",
     "iopub.status.idle": "2025-03-03T15:34:35.577309Z",
     "shell.execute_reply": "2025-03-03T15:34:35.576165Z"
    },
    "papermill": {
     "duration": 0.107385,
     "end_time": "2025-03-03T15:34:35.579568",
     "exception": false,
     "start_time": "2025-03-03T15:34:35.472183",
     "status": "completed"
    },
    "tags": []
   },
   "outputs": [
    {
     "data": {
      "text/html": [
       "<style>#sk-container-id-1 {color: black;background-color: white;}#sk-container-id-1 pre{padding: 0;}#sk-container-id-1 div.sk-toggleable {background-color: white;}#sk-container-id-1 label.sk-toggleable__label {cursor: pointer;display: block;width: 100%;margin-bottom: 0;padding: 0.3em;box-sizing: border-box;text-align: center;}#sk-container-id-1 label.sk-toggleable__label-arrow:before {content: \"▸\";float: left;margin-right: 0.25em;color: #696969;}#sk-container-id-1 label.sk-toggleable__label-arrow:hover:before {color: black;}#sk-container-id-1 div.sk-estimator:hover label.sk-toggleable__label-arrow:before {color: black;}#sk-container-id-1 div.sk-toggleable__content {max-height: 0;max-width: 0;overflow: hidden;text-align: left;background-color: #f0f8ff;}#sk-container-id-1 div.sk-toggleable__content pre {margin: 0.2em;color: black;border-radius: 0.25em;background-color: #f0f8ff;}#sk-container-id-1 input.sk-toggleable__control:checked~div.sk-toggleable__content {max-height: 200px;max-width: 100%;overflow: auto;}#sk-container-id-1 input.sk-toggleable__control:checked~label.sk-toggleable__label-arrow:before {content: \"▾\";}#sk-container-id-1 div.sk-estimator input.sk-toggleable__control:checked~label.sk-toggleable__label {background-color: #d4ebff;}#sk-container-id-1 div.sk-label input.sk-toggleable__control:checked~label.sk-toggleable__label {background-color: #d4ebff;}#sk-container-id-1 input.sk-hidden--visually {border: 0;clip: rect(1px 1px 1px 1px);clip: rect(1px, 1px, 1px, 1px);height: 1px;margin: -1px;overflow: hidden;padding: 0;position: absolute;width: 1px;}#sk-container-id-1 div.sk-estimator {font-family: monospace;background-color: #f0f8ff;border: 1px dotted black;border-radius: 0.25em;box-sizing: border-box;margin-bottom: 0.5em;}#sk-container-id-1 div.sk-estimator:hover {background-color: #d4ebff;}#sk-container-id-1 div.sk-parallel-item::after {content: \"\";width: 100%;border-bottom: 1px solid gray;flex-grow: 1;}#sk-container-id-1 div.sk-label:hover label.sk-toggleable__label {background-color: #d4ebff;}#sk-container-id-1 div.sk-serial::before {content: \"\";position: absolute;border-left: 1px solid gray;box-sizing: border-box;top: 0;bottom: 0;left: 50%;z-index: 0;}#sk-container-id-1 div.sk-serial {display: flex;flex-direction: column;align-items: center;background-color: white;padding-right: 0.2em;padding-left: 0.2em;position: relative;}#sk-container-id-1 div.sk-item {position: relative;z-index: 1;}#sk-container-id-1 div.sk-parallel {display: flex;align-items: stretch;justify-content: center;background-color: white;position: relative;}#sk-container-id-1 div.sk-item::before, #sk-container-id-1 div.sk-parallel-item::before {content: \"\";position: absolute;border-left: 1px solid gray;box-sizing: border-box;top: 0;bottom: 0;left: 50%;z-index: -1;}#sk-container-id-1 div.sk-parallel-item {display: flex;flex-direction: column;z-index: 1;position: relative;background-color: white;}#sk-container-id-1 div.sk-parallel-item:first-child::after {align-self: flex-end;width: 50%;}#sk-container-id-1 div.sk-parallel-item:last-child::after {align-self: flex-start;width: 50%;}#sk-container-id-1 div.sk-parallel-item:only-child::after {width: 0;}#sk-container-id-1 div.sk-dashed-wrapped {border: 1px dashed gray;margin: 0 0.4em 0.5em 0.4em;box-sizing: border-box;padding-bottom: 0.4em;background-color: white;}#sk-container-id-1 div.sk-label label {font-family: monospace;font-weight: bold;display: inline-block;line-height: 1.2em;}#sk-container-id-1 div.sk-label-container {text-align: center;}#sk-container-id-1 div.sk-container {/* jupyter's `normalize.less` sets `[hidden] { display: none; }` but bootstrap.min.css set `[hidden] { display: none !important; }` so we also need the `!important` here to be able to override the default hidden behavior on the sphinx rendered scikit-learn.org. See: https://github.com/scikit-learn/scikit-learn/issues/21755 */display: inline-block !important;position: relative;}#sk-container-id-1 div.sk-text-repr-fallback {display: none;}</style><div id=\"sk-container-id-1\" class=\"sk-top-container\"><div class=\"sk-text-repr-fallback\"><pre>LinearRegression()</pre><b>In a Jupyter environment, please rerun this cell to show the HTML representation or trust the notebook. <br />On GitHub, the HTML representation is unable to render, please try loading this page with nbviewer.org.</b></div><div class=\"sk-container\" hidden><div class=\"sk-item\"><div class=\"sk-estimator sk-toggleable\"><input class=\"sk-toggleable__control sk-hidden--visually\" id=\"sk-estimator-id-1\" type=\"checkbox\" checked><label for=\"sk-estimator-id-1\" class=\"sk-toggleable__label sk-toggleable__label-arrow\">LinearRegression</label><div class=\"sk-toggleable__content\"><pre>LinearRegression()</pre></div></div></div></div></div>"
      ],
      "text/plain": [
       "LinearRegression()"
      ]
     },
     "execution_count": 15,
     "metadata": {},
     "output_type": "execute_result"
    }
   ],
   "source": [
    "model_1 = LinearRegression()\n",
    "model_1.fit(X_train_1, y_train_1)"
   ]
  },
  {
   "cell_type": "code",
   "execution_count": 16,
   "id": "98de3c94",
   "metadata": {
    "execution": {
     "iopub.execute_input": "2025-03-03T15:34:35.603084Z",
     "iopub.status.busy": "2025-03-03T15:34:35.602580Z",
     "iopub.status.idle": "2025-03-03T15:34:35.614267Z",
     "shell.execute_reply": "2025-03-03T15:34:35.613198Z"
    },
    "papermill": {
     "duration": 0.023504,
     "end_time": "2025-03-03T15:34:35.616797",
     "exception": false,
     "start_time": "2025-03-03T15:34:35.593293",
     "status": "completed"
    },
    "tags": []
   },
   "outputs": [],
   "source": [
    "y_pred_1 = model_1.predict(X_test_1)"
   ]
  },
  {
   "cell_type": "code",
   "execution_count": 17,
   "id": "d9db0097",
   "metadata": {
    "execution": {
     "iopub.execute_input": "2025-03-03T15:34:35.645307Z",
     "iopub.status.busy": "2025-03-03T15:34:35.644813Z",
     "iopub.status.idle": "2025-03-03T15:34:35.654751Z",
     "shell.execute_reply": "2025-03-03T15:34:35.653385Z"
    },
    "papermill": {
     "duration": 0.026107,
     "end_time": "2025-03-03T15:34:35.656672",
     "exception": false,
     "start_time": "2025-03-03T15:34:35.630565",
     "status": "completed"
    },
    "tags": []
   },
   "outputs": [
    {
     "name": "stdout",
     "output_type": "stream",
     "text": [
      "MAE: 0.003915843385709587\n",
      "MSE: 2.6272649482878146e-05\n",
      "RMSE: 0.0051256852695886574\n",
      "R² Score: 0.9925516247535742\n"
     ]
    }
   ],
   "source": [
    "mae = mean_absolute_error(y_test_1, y_pred_1)\n",
    "mse = mean_squared_error(y_test_1, y_pred_1)\n",
    "rmse = np.sqrt(mse)\n",
    "r2 = r2_score(y_test_1, y_pred_1)\n",
    "\n",
    "print(f\"MAE: {mae}\")\n",
    "print(f\"MSE: {mse}\")\n",
    "print(f\"RMSE: {rmse}\")\n",
    "print(f\"R² Score: {r2}\")"
   ]
  },
  {
   "cell_type": "code",
   "execution_count": 18,
   "id": "1d2c9253",
   "metadata": {
    "execution": {
     "iopub.execute_input": "2025-03-03T15:34:35.672479Z",
     "iopub.status.busy": "2025-03-03T15:34:35.672138Z",
     "iopub.status.idle": "2025-03-03T15:34:36.012620Z",
     "shell.execute_reply": "2025-03-03T15:34:36.011478Z"
    },
    "papermill": {
     "duration": 0.35085,
     "end_time": "2025-03-03T15:34:36.014779",
     "exception": false,
     "start_time": "2025-03-03T15:34:35.663929",
     "status": "completed"
    },
    "tags": []
   },
   "outputs": [
    {
     "data": {
      "image/png": "[encoded data removed]",
      "text/plain": [
       "<Figure size 1200x600 with 1 Axes>"
      ]
     },
     "metadata": {},
     "output_type": "display_data"
    }
   ],
   "source": [
    "plt.figure(figsize=(12,6))\n",
    "plt.plot(y_test_1.values, label=\"Actual Price\", color='blue')\n",
    "plt.plot(y_pred_1, label=\"Predicted Price\", color='red', linestyle=\"dashed\")\n",
    "plt.legend()\n",
    "plt.title(\"EUR/USD Price Prediction - Linear Regression\")\n",
    "plt.show()"
   ]
  },
  {
   "cell_type": "markdown",
   "id": "5ec5bba6",
   "metadata": {
    "papermill": {
     "duration": 0.008407,
     "end_time": "2025-03-03T15:34:36.032311",
     "exception": false,
     "start_time": "2025-03-03T15:34:36.023904",
     "status": "completed"
    },
    "tags": []
   },
   "source": [
    "- The linear regression is actually able to predict the price"
   ]
  },
  {
   "cell_type": "markdown",
   "id": "5b264cfd",
   "metadata": {
    "papermill": {
     "duration": 0.008516,
     "end_time": "2025-03-03T15:34:36.049400",
     "exception": false,
     "start_time": "2025-03-03T15:34:36.040884",
     "status": "completed"
    },
    "tags": []
   },
   "source": [
    "**downloading the model and metrics to the local computer from the kaggle notebook in order to track with mlflow since mlflow does not work in kaggle notebook**"
   ]
  },
  {
   "cell_type": "code",
   "execution_count": 19,
   "id": "a44062d3",
   "metadata": {
    "execution": {
     "iopub.execute_input": "2025-03-03T15:34:36.067905Z",
     "iopub.status.busy": "2025-03-03T15:34:36.067523Z",
     "iopub.status.idle": "2025-03-03T15:34:36.071748Z",
     "shell.execute_reply": "2025-03-03T15:34:36.070809Z"
    },
    "papermill": {
     "duration": 0.015614,
     "end_time": "2025-03-03T15:34:36.073582",
     "exception": false,
     "start_time": "2025-03-03T15:34:36.057968",
     "status": "completed"
    },
    "tags": []
   },
   "outputs": [],
   "source": [
    "import joblib\n",
    "import json"
   ]
  },
  {
   "cell_type": "code",
   "execution_count": 20,
   "id": "5172352e",
   "metadata": {
    "execution": {
     "iopub.execute_input": "2025-03-03T15:34:36.092950Z",
     "iopub.status.busy": "2025-03-03T15:34:36.092544Z",
     "iopub.status.idle": "2025-03-03T15:34:36.097235Z",
     "shell.execute_reply": "2025-03-03T15:34:36.096084Z"
    },
    "papermill": {
     "duration": 0.016473,
     "end_time": "2025-03-03T15:34:36.099138",
     "exception": false,
     "start_time": "2025-03-03T15:34:36.082665",
     "status": "completed"
    },
    "tags": []
   },
   "outputs": [],
   "source": [
    "metrics = {\n",
    "    \"MAE\": mae,\n",
    "    \"MSE\": mse,\n",
    "    \"RMSE\": rmse,\n",
    "    \"R2_Score\": r2\n",
    "}"
   ]
  },
  {
   "cell_type": "code",
   "execution_count": 21,
   "id": "395d2f75",
   "metadata": {
    "execution": {
     "iopub.execute_input": "2025-03-03T15:34:36.118548Z",
     "iopub.status.busy": "2025-03-03T15:34:36.118208Z",
     "iopub.status.idle": "2025-03-03T15:34:36.125375Z",
     "shell.execute_reply": "2025-03-03T15:34:36.124304Z"
    },
    "papermill": {
     "duration": 0.018806,
     "end_time": "2025-03-03T15:34:36.127136",
     "exception": false,
     "start_time": "2025-03-03T15:34:36.108330",
     "status": "completed"
    },
    "tags": []
   },
   "outputs": [
    {
     "data": {
      "text/plain": [
       "['model_1.pkl']"
      ]
     },
     "execution_count": 21,
     "metadata": {},
     "output_type": "execute_result"
    }
   ],
   "source": [
    "# Save the model\n",
    "joblib.dump(model_1, \"model_1.pkl\")"
   ]
  },
  {
   "cell_type": "code",
   "execution_count": 22,
   "id": "3094ae1a",
   "metadata": {
    "execution": {
     "iopub.execute_input": "2025-03-03T15:34:36.146923Z",
     "iopub.status.busy": "2025-03-03T15:34:36.146527Z",
     "iopub.status.idle": "2025-03-03T15:34:36.151902Z",
     "shell.execute_reply": "2025-03-03T15:34:36.150809Z"
    },
    "papermill": {
     "duration": 0.017127,
     "end_time": "2025-03-03T15:34:36.153672",
     "exception": false,
     "start_time": "2025-03-03T15:34:36.136545",
     "status": "completed"
    },
    "tags": []
   },
   "outputs": [],
   "source": [
    "# Save metrics\n",
    "with open(\"metrics.json\", \"w\") as f:\n",
    "    json.dump(metrics, f)"
   ]
  },
  {
   "cell_type": "code",
   "execution_count": 23,
   "id": "bf307eca",
   "metadata": {
    "execution": {
     "iopub.execute_input": "2025-03-03T15:34:36.172986Z",
     "iopub.status.busy": "2025-03-03T15:34:36.172572Z",
     "iopub.status.idle": "2025-03-03T15:34:36.308884Z",
     "shell.execute_reply": "2025-03-03T15:34:36.307061Z"
    },
    "papermill": {
     "duration": 0.148852,
     "end_time": "2025-03-03T15:34:36.311690",
     "exception": false,
     "start_time": "2025-03-03T15:34:36.162838",
     "status": "completed"
    },
    "tags": []
   },
   "outputs": [
    {
     "name": "stdout",
     "output_type": "stream",
     "text": [
      "  adding: model_1.pkl (deflated 24%)\r\n",
      "  adding: metrics.json (deflated 20%)\r\n"
     ]
    }
   ],
   "source": [
    "\n",
    "# Zip files for download\n",
    "!zip model_outputs.zip model_1.pkl metrics.json"
   ]
  },
  {
   "cell_type": "code",
   "execution_count": null,
   "id": "4118611c",
   "metadata": {
    "papermill": {
     "duration": 0.012467,
     "end_time": "2025-03-03T15:34:36.337618",
     "exception": false,
     "start_time": "2025-03-03T15:34:36.325151",
     "status": "completed"
    },
    "tags": []
   },
   "outputs": [],
   "source": []
  }
 ],
 "metadata": {
  "kaggle": {
   "accelerator": "none",
   "dataSources": [
    {
     "datasetId": 6769847,
     "sourceId": 10893537,
     "sourceType": "datasetVersion"
    }
   ],
   "dockerImageVersionId": 30918,
   "isGpuEnabled": false,
   "isInternetEnabled": true,
   "language": "python",
   "sourceType": "notebook"
  },
  "kernelspec": {
   "display_name": "Python 3",
   "language": "python",
   "name": "python3"
  },
  "language_info": {
   "codemirror_mode": {
    "name": "ipython",
    "version": 3
   },
   "file_extension": ".py",
   "mimetype": "text/x-python",
   "name": "python",
   "nbconvert_exporter": "python",
   "pygments_lexer": "ipython3",
   "version": "3.10.12"
  },
  "papermill": {
   "default_parameters": {},
   "duration": 8.175031,
   "end_time": "2025-03-03T15:34:37.169929",
   "environment_variables": {},
   "exception": null,
   "input_path": "__notebook__.ipynb",
   "output_path": "__notebook__.ipynb",
   "parameters": {},
   "start_time": "2025-03-03T15:34:28.994898",
   "version": "2.6.0"
  }
 },
 "nbformat": 4,
 "nbformat_minor": 5
}
