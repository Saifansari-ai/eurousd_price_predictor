{
 "cells": [
  {
   "cell_type": "code",
   "execution_count": 1,
   "metadata": {},
   "outputs": [],
   "source": [
    "import mlflow\n",
    "import json\n",
    "import joblib\n",
    "import pickle\n",
    "import mlflow.sklearn"
   ]
  },
  {
   "cell_type": "code",
   "execution_count": 4,
   "metadata": {},
   "outputs": [
    {
     "name": "stderr",
     "output_type": "stream",
     "text": [
      "2025/03/03 21:18:19 INFO mlflow.tracking.fluent: Experiment with name 'Kaggle_Linear_Regression' does not exist. Creating a new experiment.\n"
     ]
    },
    {
     "data": {
      "text/plain": [
       "<Experiment: artifact_location='mlflow-artifacts:/491342815936724737', creation_time=1741016899136, experiment_id='491342815936724737', last_update_time=1741016899136, lifecycle_stage='active', name='Kaggle_Linear_Regression', tags={}>"
      ]
     },
     "execution_count": 4,
     "metadata": {},
     "output_type": "execute_result"
    }
   ],
   "source": [
    "mlflow.set_tracking_uri(\"http://127.0.0.1:5000\")\n",
    "mlflow.set_experiment(\"Kaggle_Linear_Regression\")"
   ]
  },
  {
   "cell_type": "code",
   "execution_count": 5,
   "metadata": {},
   "outputs": [
    {
     "name": "stderr",
     "output_type": "stream",
     "text": [
      "/home/saif/.conda/envs/visa/lib/python3.8/site-packages/sklearn/base.py:348: InconsistentVersionWarning: Trying to unpickle estimator LinearRegression from version 1.2.2 when using version 1.3.2. This might lead to breaking code or invalid results. Use at your own risk. For more info please refer to:\n",
      "https://scikit-learn.org/stable/model_persistence.html#security-maintainability-limitations\n",
      "  warnings.warn(\n",
      "2025/03/03 21:18:37 WARNING mlflow.models.model: Model logged without a signature and input example. Please set `input_example` parameter when logging the model to auto infer the model signature.\n",
      "2025/03/03 21:18:37 INFO mlflow.tracking._tracking_service.client: 🏃 View run delicate-bug-234 at: http://127.0.0.1:5000/#/experiments/491342815936724737/runs/cd47d6f886bd4966851619800ec2989d.\n",
      "2025/03/03 21:18:37 INFO mlflow.tracking._tracking_service.client: 🧪 View experiment at: http://127.0.0.1:5000/#/experiments/491342815936724737.\n"
     ]
    },
    {
     "name": "stdout",
     "output_type": "stream",
     "text": [
      "Model and metrics successfully logged to MLflow!\n"
     ]
    }
   ],
   "source": [
    "\n",
    "# Start MLflow run\n",
    "with mlflow.start_run():\n",
    "    # Load metrics\n",
    "    with open(\"metrics.json\") as f:\n",
    "        metrics = json.load(f)\n",
    "\n",
    "    # Log metrics\n",
    "    mlflow.log_metrics(metrics)\n",
    "\n",
    "    # Load and log model\n",
    "    model_1 = joblib.load(\"model_1.pkl\")\n",
    "    mlflow.sklearn.log_model(model_1, \"model_1\")\n",
    "\n",
    "print(\"Model and metrics successfully logged to MLflow!\")"
   ]
  },
  {
   "cell_type": "markdown",
   "metadata": {},
   "source": [
    "## loading arima model and its metrics and params from kaggle to track on the mlflow"
   ]
  },
  {
   "cell_type": "code",
   "execution_count": 2,
   "metadata": {},
   "outputs": [
    {
     "name": "stdout",
     "output_type": "stream",
     "text": [
      "Model loaded successfully!\n",
      "Metrics: {'MAE': 0.0474, 'MSE': 0.004, 'RMSE': 0.0631, 'MAPE': 4.19}\n",
      "Parameters: {'p': 2, 'd': 1, 'q': 2}\n"
     ]
    }
   ],
   "source": [
    "# Load the ARIMA model\n",
    "with open(\"models/arima_1.pkl\", \"rb\") as model_file:\n",
    "    arima_1 = pickle.load(model_file)\n",
    "\n",
    "# Load the metrics\n",
    "with open(\"/home/saif/Desktop/forex_data/Metrics/arima_metrics.json\", \"r\") as metrics_file:\n",
    "    arima_1_metrics = json.load(metrics_file)\n",
    "\n",
    "# Load the ARIMA parameters\n",
    "with open(\"/home/saif/Desktop/forex_data/Params/arima_params.json\", \"r\") as params_file:\n",
    "    arima_1_params = json.load(params_file)\n",
    "\n",
    "print(\"Model loaded successfully!\")\n",
    "print(\"Metrics:\", arima_1_metrics)\n",
    "print(\"Parameters:\", arima_1_params)"
   ]
  },
  {
   "cell_type": "code",
   "execution_count": 3,
   "metadata": {},
   "outputs": [
    {
     "name": "stderr",
     "output_type": "stream",
     "text": [
      "2025/03/04 07:29:38 INFO mlflow.tracking.fluent: Experiment with name 'ARIMA_Model_Tracking' does not exist. Creating a new experiment.\n",
      "2025/03/04 07:29:41 WARNING mlflow.models.model: Model logged without a signature and input example. Please set `input_example` parameter when logging the model to auto infer the model signature.\n",
      "2025/03/04 07:29:41 INFO mlflow.tracking._tracking_service.client: 🏃 View run enchanting-wasp-47 at: http://127.0.0.1:5000/#/experiments/180335744993801214/runs/bbb96c8a0b98425895fd1690298503e2.\n",
      "2025/03/04 07:29:41 INFO mlflow.tracking._tracking_service.client: 🧪 View experiment at: http://127.0.0.1:5000/#/experiments/180335744993801214.\n"
     ]
    },
    {
     "name": "stdout",
     "output_type": "stream",
     "text": [
      "Run ID: bbb96c8a0b98425895fd1690298503e2\n",
      "✅ ARIMA Model successfully logged to MLflow!\n"
     ]
    }
   ],
   "source": [
    "mlflow.set_tracking_uri(\"http://127.0.0.1:5000\")\n",
    "mlflow.set_experiment(\"ARIMA_Model_Tracking\")\n",
    "with mlflow.start_run():\n",
    "    # Log model parameters\n",
    "    mlflow.log_params(arima_1_params)\n",
    "\n",
    "    # Log metrics\n",
    "    mlflow.log_metrics(arima_1_metrics)\n",
    "\n",
    "    # Log ARIMA model\n",
    "    mlflow.sklearn.log_model(arima_1, \"arima_model\")\n",
    "\n",
    "    # Print run details\n",
    "    print(f\"Run ID: {mlflow.active_run().info.run_id}\")\n",
    "\n",
    "print(\"✅ ARIMA Model successfully logged to MLflow!\")"
   ]
  },
  {
   "cell_type": "code",
   "execution_count": null,
   "metadata": {},
   "outputs": [],
   "source": []
  }
 ],
 "metadata": {
  "kernelspec": {
   "display_name": "visa",
   "language": "python",
   "name": "python3"
  },
  "language_info": {
   "codemirror_mode": {
    "name": "ipython",
    "version": 3
   },
   "file_extension": ".py",
   "mimetype": "text/x-python",
   "name": "python",
   "nbconvert_exporter": "python",
   "pygments_lexer": "ipython3",
   "version": "3.8.19"
  }
 },
 "nbformat": 4,
 "nbformat_minor": 2
}
