{
 "cells": [
  {
   "cell_type": "code",
   "execution_count": 3,
   "metadata": {},
   "outputs": [],
   "source": [
    "import mlflow\n",
    "import json\n",
    "import joblib\n",
    "import mlflow.sklearn"
   ]
  },
  {
   "cell_type": "code",
   "execution_count": 4,
   "metadata": {},
   "outputs": [
    {
     "name": "stderr",
     "output_type": "stream",
     "text": [
      "2025/03/03 21:18:19 INFO mlflow.tracking.fluent: Experiment with name 'Kaggle_Linear_Regression' does not exist. Creating a new experiment.\n"
     ]
    },
    {
     "data": {
      "text/plain": [
       "<Experiment: artifact_location='mlflow-artifacts:/491342815936724737', creation_time=1741016899136, experiment_id='491342815936724737', last_update_time=1741016899136, lifecycle_stage='active', name='Kaggle_Linear_Regression', tags={}>"
      ]
     },
     "execution_count": 4,
     "metadata": {},
     "output_type": "execute_result"
    }
   ],
   "source": [
    "mlflow.set_tracking_uri(\"http://127.0.0.1:5000\")\n",
    "mlflow.set_experiment(\"Kaggle_Linear_Regression\")"
   ]
  },
  {
   "cell_type": "code",
   "execution_count": 5,
   "metadata": {},
   "outputs": [
    {
     "name": "stderr",
     "output_type": "stream",
     "text": [
      "/home/saif/.conda/envs/visa/lib/python3.8/site-packages/sklearn/base.py:348: InconsistentVersionWarning: Trying to unpickle estimator LinearRegression from version 1.2.2 when using version 1.3.2. This might lead to breaking code or invalid results. Use at your own risk. For more info please refer to:\n",
      "https://scikit-learn.org/stable/model_persistence.html#security-maintainability-limitations\n",
      "  warnings.warn(\n",
      "2025/03/03 21:18:37 WARNING mlflow.models.model: Model logged without a signature and input example. Please set `input_example` parameter when logging the model to auto infer the model signature.\n",
      "2025/03/03 21:18:37 INFO mlflow.tracking._tracking_service.client: 🏃 View run delicate-bug-234 at: http://127.0.0.1:5000/#/experiments/491342815936724737/runs/cd47d6f886bd4966851619800ec2989d.\n",
      "2025/03/03 21:18:37 INFO mlflow.tracking._tracking_service.client: 🧪 View experiment at: http://127.0.0.1:5000/#/experiments/491342815936724737.\n"
     ]
    },
    {
     "name": "stdout",
     "output_type": "stream",
     "text": [
      "Model and metrics successfully logged to MLflow!\n"
     ]
    }
   ],
   "source": [
    "\n",
    "# Start MLflow run\n",
    "with mlflow.start_run():\n",
    "    # Load metrics\n",
    "    with open(\"metrics.json\") as f:\n",
    "        metrics = json.load(f)\n",
    "\n",
    "    # Log metrics\n",
    "    mlflow.log_metrics(metrics)\n",
    "\n",
    "    # Load and log model\n",
    "    model_1 = joblib.load(\"model_1.pkl\")\n",
    "    mlflow.sklearn.log_model(model_1, \"model_1\")\n",
    "\n",
    "print(\"Model and metrics successfully logged to MLflow!\")"
   ]
  },
  {
   "cell_type": "code",
   "execution_count": null,
   "metadata": {},
   "outputs": [],
   "source": []
  }
 ],
 "metadata": {
  "kernelspec": {
   "display_name": "visa",
   "language": "python",
   "name": "python3"
  },
  "language_info": {
   "codemirror_mode": {
    "name": "ipython",
    "version": 3
   },
   "file_extension": ".py",
   "mimetype": "text/x-python",
   "name": "python",
   "nbconvert_exporter": "python",
   "pygments_lexer": "ipython3",
   "version": "3.8.19"
  }
 },
 "nbformat": 4,
 "nbformat_minor": 2
}
